{
 "cells": [
  {
   "cell_type": "code",
   "execution_count": 1,
   "id": "9ed6a3d6",
   "metadata": {},
   "outputs": [],
   "source": [
    "import pandas as pd\n",
    "import numpy as np\n",
    "from datetime import date\n",
    "from sklearn.linear_model import LogisticRegression\n",
    "from sklearn.preprocessing import StandardScaler\n",
    "from sklearn.metrics import accuracy_score\n",
    "from sklearn.metrics import confusion_matrix\n",
    "from sklearn.linear_model import LinearRegression\n",
    "import matplotlib.pyplot as plt"
   ]
  },
  {
   "cell_type": "code",
   "execution_count": 2,
   "id": "6fdb33eb",
   "metadata": {},
   "outputs": [
    {
     "name": "stdout",
     "output_type": "stream",
     "text": [
      "Index([                   'Date Issued',                     'Project ID',\n",
      "                         'Project Name',              'Project Developer',\n",
      "                         'Project Type',               'Protocol Version',\n",
      "                         'ARB Eligible',               'CORSIA Qualified',\n",
      "                              'Vintage',                'Issuance \\nYear',\n",
      "                 'Total Credits Issued',      'Credits Issued to Project',\n",
      "        'Credits Issued to Buffer Pool',          'Project Site Location',\n",
      "                   'Project Site State',           'Project Site Country',\n",
      "        'Methodology /Protocol Version',               'Verified Removal',\n",
      "       'Additional Certifications/SDGs',                       'Verifier',\n",
      "                      'Project Website',              'ACR Issuance Data',\n",
      "                       'Updated 1-2-23',         'Total Credits Issued: ',\n",
      "                              208851584],\n",
      "      dtype='object')\n",
      "['Emission reductions through industrial gas substitution'\n",
      " 'Anaerobic Digestion'\n",
      " 'AR-ACM0001 Afforestation and Reforestation of Degraded Land'\n",
      " 'Monitoring, Reporting and Verification Protocol for Landfill Gas Combustion'\n",
      " 'Fuel switching from coal and/or petroleum fuels to natural gas in existing Power Plant for electricity generation'\n",
      " 'Conversion of High-Bleed Pneumatic Controllers in Oil and Natural Gas Systems'\n",
      " 'Afforestation and Reforestation of Degraded Lands'\n",
      " 'Emission Reductions from Enhanced Oil Recovery'\n",
      " 'Emissions Reductions though Anti-Idling Technologies'\n",
      " 'Electricity generation by the user'\n",
      " 'Offset Project Methodology for Landfill Methane Collection and Combustion'\n",
      " 'Emission reductions through wastewater treatment'\n",
      " 'Monitoring, Reporting and Verification Protocol for Cogeneration'\n",
      " 'AMS-I.C.: Thermal energy production with or without electricity'\n",
      " 'Nitrous Oxide Abatement Protocol'\n",
      " 'ARB Compliance Offset Protocol: Destruction of U.S. Ozone Depleting Substances Banks'\n",
      " 'N2O Emission Reductions through Reduced Use of Fertilizer on Agricultural Crops'\n",
      " 'ARB Compliance Offset Protocol: U.S. Forest Projects'\n",
      " 'ACM0002: Consolidated baseline methodology for grid-connected electricity generation from renewable sources'\n",
      " 'Climate Action Reserve U.S. Ozone Depleting Substances Project Protocol'\n",
      " 'Truck Stop Electrification'\n",
      " 'ARB Compliance Offset Protocol: Capturing and Destroying Methane from Manure Management Systems'\n",
      " 'AMS-III.BC.: Emissions Reductions through Improved Efficiency of Vehicle Fleet'\n",
      " 'Emission Reductions in Rice Management Systems'\n",
      " 'Improved Forest Management (IFM) on Non-Federal U.S. Forestlands'\n",
      " 'Avoided Conversion of Grasslands and Shrublands to Crop Production'\n",
      " 'Reduction in Emissions from the Recycling of Transformer Oil'\n",
      " 'ARB Compliance Offset Protocol: Mine Methane Capture Projects'\n",
      " 'AM0065: Replacement of SF6 with Alternate Cover Gas in the Magnesium Industry'\n",
      " 'Certified Reclaimed HFC Refrigerants, Propellants, and Fire Suppressants'\n",
      " 'Transition to Advanced Formulation Blowing Agents in Foam Manufacturing and Use'\n",
      " 'AMS-III.Y: Methane avoidance through separation of solids from wastewater or manure treatment systems'\n",
      " 'Restoration of California Deltaic and Coastal Wetlands'\n",
      " 'Landfill Gas Destruction and Beneficial Use Projects'\n",
      " 'Advanced Refrigeration Systems'\n",
      " 'Destruction of Ozone Depleting Substances (ODS) and High-Global Warming Potential (GWP) Foam'\n",
      " 'Destruction of Ozone Depleting Substances (ODS) from International Sources']\n"
     ]
    }
   ],
   "source": [
    "ACR_issue= pd.read_excel(r\"C:\\Users\\naren\\Downloads\\Voluntary-Registry-Offsets-Database--v7-1--2022-year-end-release.xlsx\", sheet_name = \"ACR Issuances\")\n",
    "print(ACR_issue.columns)\n",
    "print(ACR_issue['Methodology /Protocol Version'].unique())"
   ]
  },
  {
   "cell_type": "code",
   "execution_count": 3,
   "id": "c3db3085",
   "metadata": {},
   "outputs": [
    {
     "name": "stdout",
     "output_type": "stream",
     "text": [
      "Carbon Dioxide Removal project credits in the ACR: 8906319\n",
      "Credits in the ACR: 208851584\n",
      "Percent of ACR credits from CDR projects: 0.04264424922915595\n"
     ]
    }
   ],
   "source": [
    "CDR = ['AR-ACM0001 Afforestation and Reforestation of Degraded Land','Afforestation and Reforestation of Degraded Lands','Restoration of California Deltaic and Coastal Wetlands']\n",
    "CDR= '|'.join(CDR)\n",
    "ACR_issue_CDR = ACR_issue[ACR_issue['Methodology /Protocol Version'].str.contains(CDR)]\n",
    "ACR_CDR_credits = ACR_issue_CDR['Credits Issued to Project'].sum()\n",
    "print(\"Carbon Dioxide Removal project credits in the ACR: \" + str(ACR_CDR_credits))\n",
    "ACR_credits = ACR_issue['Credits Issued to Project'].dropna().sum()\n",
    "print(\"Credits in the ACR: \"+str(ACR_credits))\n",
    "ACR_CDR_ratio = ACR_CDR_credits/ACR_credits\n",
    "print(\"Percent of ACR credits from CDR projects: \"+ str(ACR_CDR_ratio))"
   ]
  },
  {
   "cell_type": "code",
   "execution_count": 4,
   "id": "f3328053",
   "metadata": {},
   "outputs": [
    {
     "name": "stdout",
     "output_type": "stream",
     "text": [
      "Empty DataFrame\n",
      "Columns: [Date Issued, Project ID, Project Name, Project Developer, Project Type, Protocol Version, ARB Eligible, CORSIA Qualified, Vintage, Issuance \n",
      "Year, Total Credits Issued, Credits Issued to Project, Credits Issued to Buffer Pool, Project Site Location, Project Site State, Project Site Country, Methodology /Protocol Version, Verified Removal, Additional Certifications/SDGs, Verifier, Project Website, ACR Issuance Data, Updated 1-2-23, Total Credits Issued: , 208851584]\n",
      "Index: []\n",
      "\n",
      "[0 rows x 25 columns]\n"
     ]
    }
   ],
   "source": [
    "ACR_ARB= ACR_issue[ACR_issue['ARB Eligible']=='Yes']\n",
    "ACR_ARB_CDR = ACR_ARB[ACR_ARB['Methodology /Protocol Version'].str.contains(CDR)]\n",
    "print(ACR_ARB_CDR)"
   ]
  },
  {
   "cell_type": "code",
   "execution_count": 5,
   "id": "0aa7d5c3",
   "metadata": {},
   "outputs": [
    {
     "name": "stdout",
     "output_type": "stream",
     "text": [
      "Index([                                  'Date \\nIssued',\n",
      "                                            'Project ID',\n",
      "                              'Cooperative/Aggregate ID',\n",
      "                                        'Project \\nName',\n",
      "                                     'Project Developer',\n",
      "                                         'Project Owner',\n",
      "                                          'Project Type',\n",
      "                                      'Protocol Version',\n",
      "                                          'ARB Eligible',\n",
      "                                       'CORSIA Eligible',\n",
      "                                               'Vintage',\n",
      "                                       'Issuance \\nYear',\n",
      "                           'Total Offset Credits Issued',\n",
      "       'Offset Credits Currently in Reserve Buffer Pool',\n",
      "           'Offset Credits Intended for ARB Buffer Pool',\n",
      "                      'Offset Credits Converted to VCUs',\n",
      "                           'Canceled for ARB Compliance',\n",
      "                                              'Canceled',\n",
      "                                 'Project Site Location',\n",
      "                                    'Project Site State',\n",
      "                                  'Project Site Country',\n",
      "                             'Additional Certifications',\n",
      "                                     'Verification Body',\n",
      "                                       'Project Website',\n",
      "                                           'Unnamed: 24',\n",
      "                                     'CAR Issuance Data',\n",
      "                                        'Updated 1-2-23',\n",
      "                                'Total Credits Issued: ',\n",
      "                                               185016769],\n",
      "      dtype='object')\n",
      "['Ozone Depleting Substances - U.S. - ARB Compliance'\n",
      " 'Livestock Gas Capture/Combustion' 'Livestock - ARB Compliance'\n",
      " 'Ozone Depleting Substances - U.S.' 'Improved Forest Management'\n",
      " 'Organic Waste Digestion' 'Conservation-Based Forest Management'\n",
      " 'Improved Forest Management - ARB Compliance' 'Landfill - MX'\n",
      " 'Nitric Acid N2O- Secondary Catalyst' 'Landfill Gas Capture/Combustion'\n",
      " 'Organic Waste Composting' 'Mine Methane Capture - ARB Compliance'\n",
      " 'Avoided Conversion - ARB Compliance' 'Avoided Grassland Conversion'\n",
      " 'Forestry - MX' 'Nitric Acid N2O- Tertiary Catalyst'\n",
      " 'Nitrogen Management' 'Soil Enrichment' 'Adipic Acid'\n",
      " 'Avoided Conversion' 'Coal Mine Methane - VAM'\n",
      " 'Ozone Depleting Substances - Article 5 Imports'\n",
      " 'Coal Mine Methane - Drainage' 'Livestock - MX']\n"
     ]
    }
   ],
   "source": [
    "CAR_issue= pd.read_excel(r\"C:\\Users\\naren\\Downloads\\Voluntary-Registry-Offsets-Database--v7-1--2022-year-end-release.xlsx\", sheet_name = \"CAR Issuances\")\n",
    "print(CAR_issue.columns)\n",
    "print(CAR_issue['Project Type'].unique())"
   ]
  },
  {
   "cell_type": "code",
   "execution_count": 6,
   "id": "3dd8c5b4",
   "metadata": {},
   "outputs": [
    {
     "name": "stdout",
     "output_type": "stream",
     "text": [
      "Index([             'Project ID',                    'GSID',\n",
      "                       'Vintage',         'Issuance \\nYear',\n",
      "                 'Credit Status',                'Quantity',\n",
      "                  'Project Name',       'Project Developer',\n",
      "                  'Project Type',            'Product Type',\n",
      "                       'Country',             'Methodology',\n",
      "       'Programme of Activities',                'POA GSID',\n",
      "                 'Issuance Date', 'Monitoring Period Start',\n",
      "         'Monitoring Period End',           'Serial Number',\n",
      "          'Eligible for CORSIA?',                   'Notes',\n",
      "           ' GOLD Issuance Data',          'Updated 1-2-23',\n",
      "         'Total Credits Issued:',                 242224223],\n",
      "      dtype='object')\n",
      "['Wind' 'Small, Low - Impact Hydro' 'Energy Efficiency - Domestic'\n",
      " 'Biogas - Heat' 'Other' 'Energy Efficiency - Industrial'\n",
      " 'Biomass, or Liquid Biofuel - Heat' 'Solar Thermal - Electricity'\n",
      " 'Biogas - Electricity' 'Biogas - Cogeneration' 'Geothermal'\n",
      " 'Biomass, or Liquid Biofuel - Electricity'\n",
      " 'Energy Efficiency - Public Sector' 'Solar Thermal - Heat'\n",
      " 'Energy Efficiency - Transport Sector']\n",
      "['ACM0002 Grid-connected electricity generation from renewable sources'\n",
      " 'AMS-I.D. Grid connected renewable electricity generation'\n",
      " 'GS Alternative Ignition Coal Fires v1.' 'GS TPDDTEC v 1.'\n",
      " 'ACM0001 Flaring or use of landfill gas'\n",
      " 'AMS-I.E. Switch from Non-Renewable Biomass for Thermal Applications by the User'\n",
      " 'GS Methodology for Improved Cook stoves and Kitchen Regimes v1.'\n",
      " 'AMS-II.G. Energy Efficiency Measures in Thermal Applications of Non-Renewable Biomass'\n",
      " 'Afforestation/Reforestation GHG Emissions Reduction & Sequestration Methodology'\n",
      " 'AMS-II.C. Demand-side energy efficiency activities for specific technologies'\n",
      " 'GS MS Simplified Methodology for Efficient Cookstoves v1.'\n",
      " 'GS Baseline and Monitoring Methodology Biodigester v1.' nan\n",
      " 'ACM0012 Waste energy recovery' 'GS TPDDTEC v 2.'\n",
      " 'AMS-II.E. Energy efficiency and fuel switching measures for buildings'\n",
      " 'AMS-I.L. Electrification of rural communities using renewable energy'\n",
      " 'GS TPDDTEC v3.1'\n",
      " 'GS Revised Methodology for Manure Management Systems and MSW v1.'\n",
      " 'GS SS Ecologically Sound Fuel Switch to Biomass v1.'\n",
      " 'AM0072 Fossil Fuel Displacement by Geothermal Resources for Space Heating'\n",
      " 'GS Methodology for emission reductions from safe drinking water supply'\n",
      " 'ACM0010 GHG emission reductions from manure management systems'\n",
      " 'Not provided'\n",
      " 'AMS-I.C. Thermal energy production with or without electricity'\n",
      " 'AMS-III.F. Avoidance of methane emissions through controlled biological treatment of biomass'\n",
      " 'AMS-I.F. Renewable electricity generation for captive use and mini-grid'\n",
      " 'AMS-I.B. Mechanical energy for the user with or without electrical energy'\n",
      " 'AMS-II.J. Demand-side activities for efficient lighting technologies '\n",
      " 'GS Biodiesel from Waste Oil or Fat v1.'\n",
      " 'AMS-I.I. Biogas/biomass thermal applications for households/small users'\n",
      " 'AMS-III.Q. Waste Energy Recovery (gas/heat/pressure) Projects'\n",
      " 'ACM0018 Electricity generation from biomass residues in power-only plants'\n",
      " 'AM0019 Renewable energy project activities replacing part of the electricity production of one single fossil-fuel-fired power plant that stands alone or supplies electricity to a grid, excluding biomass projects'\n",
      " 'AMS-III.R. Methane recovery in agricultural activities at household/small farm level'\n",
      " 'AMS-III.AV. Low greenhouse gas emitting water purification systems'\n",
      " 'AM0058 Introduction of a district heating system'\n",
      " 'GS Advanced Hull Coatings v2.' 'Other' 'GS TPDDTEC v 3.'\n",
      " 'AMS-III.AO. Methane recovery through controlled anaerobic digestion'\n",
      " 'AMS-I.A. Electricity generation by the user'\n",
      " 'ACM0014 Treatment of wastewater'\n",
      " 'GS Methodology for Improved Cook stoves and Kitchen Regimes v2.'\n",
      " 'ACM0022 Alternative waste treatment processes'\n",
      " 'AMS-III.C. Emission reductions by electric and hybrid vehicles'\n",
      " 'AMS-III.AJ. Recovery and recycling of materials from solid wastes'\n",
      " 'AMS-III.AR. Substituting fossil fuel based lighting with LED lighting systems'\n",
      " 'AMS-III.BG Emission reduction through sustainable charcoal production and consumption'\n",
      " 'NOT_PROVIDED'\n",
      " 'AM0036 Fuel switch from fossil fuels to biomass residues in heat generation equipment'\n",
      " 'GS MS Microscale Electrification and Energization v1.'\n",
      " 'AMS-III.H. Methane recovery in wastewater treatment'\n",
      " 'AMS-III.I. Avoidance of methane production in wastewater treatment through replacement of anaerobic systems by aerobic systems'\n",
      " 'AMS-III.Z. Fuel Switch, process improvement and energy efficiency in brick manufacture'\n",
      " 'AMS-III.G. Landfill methane recovery'\n",
      " 'GS Water Access and WASH Methodology v1.'\n",
      " 'AMS-III.Z. Fuel Switch = 159, process improvement and energy efficiency in brick manufacture']\n"
     ]
    }
   ],
   "source": [
    "Gold_issue= pd.read_excel(r\"C:\\Users\\naren\\Downloads\\Voluntary-Registry-Offsets-Database--v7-1--2022-year-end-release.xlsx\", sheet_name = \"Gold Issuances\")\n",
    "print(Gold_issue.columns)\n",
    "print(Gold_issue['Project Type'].unique())\n",
    "print(Gold_issue['Methodology'].unique())"
   ]
  },
  {
   "cell_type": "code",
   "execution_count": 7,
   "id": "086565a1",
   "metadata": {},
   "outputs": [
    {
     "name": "stdout",
     "output_type": "stream",
     "text": [
      "Carbon Dioxide Removal project credits registered under the Gold Standard: 8986515\n",
      "Credits issued under the Gold Standard: 242224223\n",
      "Percent of Gold Standard credits from CDR projects: 0.03709998483512526\n"
     ]
    }
   ],
   "source": [
    "Gold_CDR = Gold_issue[Gold_issue['Methodology'].str.contains('Afforestation/Reforestation GHG Emissions Reduction & Sequestration Methodology')>0]\n",
    "Gold_CDR_credits = Gold_CDR['Quantity'].sum()\n",
    "print(\"Carbon Dioxide Removal project credits registered under the Gold Standard: \" + str(Gold_CDR_credits))\n",
    "Gold_credits = Gold_issue[Gold_issue['Quantity']!='*500*']['Quantity'].sum()\n",
    "print(\"Credits issued under the Gold Standard: \"+str(Gold_credits))\n",
    "Gold_CDR_ratio=Gold_CDR_credits/Gold_credits\n",
    "print(\"Percent of Gold Standard credits from CDR projects: \"+ str(Gold_CDR_ratio))"
   ]
  },
  {
   "cell_type": "code",
   "execution_count": 8,
   "id": "0ac703a4",
   "metadata": {},
   "outputs": [
    {
     "name": "stderr",
     "output_type": "stream",
     "text": [
      "C:\\Users\\naren\\AppData\\Local\\Temp\\ipykernel_18616\\1672677292.py:5: SettingWithCopyWarning: \n",
      "A value is trying to be set on a copy of a slice from a DataFrame.\n",
      "Try using .loc[row_indexer,col_indexer] = value instead\n",
      "\n",
      "See the caveats in the documentation: https://pandas.pydata.org/pandas-docs/stable/user_guide/indexing.html#returning-a-view-versus-a-copy\n",
      "  ACR_issue_ARB['Date Ordinal'] =ACR_issue_ARB['Date Issued'].apply(lambda date: date.toordinal())\n"
     ]
    }
   ],
   "source": [
    "from datetime import date\n",
    "ACR_issue['Date Issued']= pd.to_datetime(ACR_issue['Date Issued'])\n",
    "ACR_issue_ARB=ACR_issue[ACR_issue['Date Issued']>='1/1/2014']\n",
    "ACR_issue_ARB.reset_index(inplace = True, drop = True)\n",
    "ACR_issue_ARB['Date Ordinal'] =ACR_issue_ARB['Date Issued'].apply(lambda date: date.toordinal())"
   ]
  },
  {
   "cell_type": "code",
   "execution_count": 9,
   "id": "23573856",
   "metadata": {},
   "outputs": [
    {
     "name": "stderr",
     "output_type": "stream",
     "text": [
      "C:\\Users\\naren\\AppData\\Local\\Temp\\ipykernel_18616\\1653713897.py:3: SettingWithCopyWarning: \n",
      "A value is trying to be set on a copy of a slice from a DataFrame.\n",
      "Try using .loc[row_indexer,col_indexer] = value instead\n",
      "\n",
      "See the caveats in the documentation: https://pandas.pydata.org/pandas-docs/stable/user_guide/indexing.html#returning-a-view-versus-a-copy\n",
      "  ACR_issue_ARB['ARB'] = \"\"\n",
      "C:\\Users\\naren\\AppData\\Local\\Temp\\ipykernel_18616\\1653713897.py:8: SettingWithCopyWarning: \n",
      "A value is trying to be set on a copy of a slice from a DataFrame\n",
      "\n",
      "See the caveats in the documentation: https://pandas.pydata.org/pandas-docs/stable/user_guide/indexing.html#returning-a-view-versus-a-copy\n",
      "  ACR_issue_ARB['ARB'][i]=0\n",
      "C:\\Users\\naren\\AppData\\Local\\Temp\\ipykernel_18616\\1653713897.py:6: SettingWithCopyWarning: \n",
      "A value is trying to be set on a copy of a slice from a DataFrame\n",
      "\n",
      "See the caveats in the documentation: https://pandas.pydata.org/pandas-docs/stable/user_guide/indexing.html#returning-a-view-versus-a-copy\n",
      "  ACR_issue_ARB['ARB'][i]=1\n"
     ]
    },
    {
     "data": {
      "text/plain": [
       "0.47696476964769646"
      ]
     },
     "execution_count": 9,
     "metadata": {},
     "output_type": "execute_result"
    }
   ],
   "source": [
    "from sklearn.linear_model import LogisticRegression\n",
    "lg = LogisticRegression()\n",
    "ACR_issue_ARB['ARB'] = \"\"\n",
    "for i in range(len(ACR_issue_ARB)):\n",
    " if ACR_issue_ARB['ARB Eligible'][i]=='Yes':\n",
    "  ACR_issue_ARB['ARB'][i]=1\n",
    " else:\n",
    "  ACR_issue_ARB['ARB'][i]=0\n",
    "\n",
    "ACR_issue_ARB['ARB'].mean()"
   ]
  },
  {
   "cell_type": "code",
   "execution_count": 10,
   "id": "212eb6a5",
   "metadata": {},
   "outputs": [
    {
     "name": "stderr",
     "output_type": "stream",
     "text": [
      "C:\\Users\\naren\\AppData\\Local\\Temp\\ipykernel_18616\\3959054392.py:4: SettingWithCopyWarning: \n",
      "A value is trying to be set on a copy of a slice from a DataFrame.\n",
      "Try using .loc[row_indexer,col_indexer] = value instead\n",
      "\n",
      "See the caveats in the documentation: https://pandas.pydata.org/pandas-docs/stable/user_guide/indexing.html#returning-a-view-versus-a-copy\n",
      "  ACR_issue_ARB['Scaled Date Ordinal']=scaler.transform(ACR_issue_ARB[['Date Ordinal']])\n"
     ]
    }
   ],
   "source": [
    "from sklearn.preprocessing import StandardScaler\n",
    "scaler = StandardScaler()\n",
    "scaler.fit(ACR_issue_ARB[['Date Ordinal']])\n",
    "ACR_issue_ARB['Scaled Date Ordinal']=scaler.transform(ACR_issue_ARB[['Date Ordinal']])"
   ]
  },
  {
   "cell_type": "code",
   "execution_count": 11,
   "id": "f07b88e9",
   "metadata": {},
   "outputs": [
    {
     "name": "stdout",
     "output_type": "stream",
     "text": [
      "Accuracy score: 0.5487364620938628\n",
      "Coefficient: [[-0.00392223]]\n",
      "[[152   0]\n",
      " [125   0]]\n"
     ]
    }
   ],
   "source": [
    "from sklearn.model_selection import train_test_split\n",
    "X_train, X_test, y_train, y_test = train_test_split(ACR_issue_ARB['Scaled Date Ordinal'], ACR_issue_ARB['ARB'], test_size=0.25, random_state = 51)\n",
    "lg = LogisticRegression()\n",
    "X_train = np.array(X_train).reshape(-1,1)\n",
    "X_test = np.array(X_test).reshape(-1,1)\n",
    "y_train = y_train.astype('int')\n",
    "y_test = y_test.astype('int')\n",
    "lg.fit(X_train,y_train)\n",
    "y_pred = lg.predict(X_test)\n",
    "print(\"Accuracy score: \" + str(accuracy_score(y_test,y_pred)))\n",
    "print(\"Coefficient: \" + str(lg.coef_))\n",
    "print(confusion_matrix(y_test, y_pred))"
   ]
  },
  {
   "cell_type": "code",
   "execution_count": 12,
   "id": "76f059d1",
   "metadata": {},
   "outputs": [
    {
     "name": "stdout",
     "output_type": "stream",
     "text": [
      "Accuracy score: 0.5595667870036101\n",
      "Coefficient: [[-1.35839837]]\n",
      "[[56 96]\n",
      " [26 99]]\n"
     ]
    }
   ],
   "source": [
    "sample_weight = np.ones(len(ACR_issue_ARB))\n",
    "for i in range(len(sample_weight)):\n",
    " sample_weight[i] = sample_weight[i]*list(ACR_issue_ARB['Credits Issued to Project'])[i]\n",
    "\n",
    "X_train, X_test, weight_train, weight_test, y_train, y_test = train_test_split(ACR_issue_ARB['Scaled Date Ordinal'], sample_weight, ACR_issue_ARB['ARB'], test_size=0.25, random_state = 51)\n",
    "X_train = np.array(X_train).reshape(-1,1)\n",
    "X_test = np.array(X_test).reshape(-1,1)\n",
    "y_train = y_train.astype('int')\n",
    "y_test = y_test.astype('int')\n",
    "lg.fit(X_train,y_train, weight_train)\n",
    "y_pred = lg.predict(X_test)\n",
    "print(\"Accuracy score: \" + str(accuracy_score(y_test,y_pred)))\n",
    "print(\"Coefficient: \" + str(lg.coef_))\n",
    "print(confusion_matrix(y_test, y_pred))"
   ]
  },
  {
   "cell_type": "code",
   "execution_count": 13,
   "id": "303b8bf4",
   "metadata": {},
   "outputs": [
    {
     "name": "stderr",
     "output_type": "stream",
     "text": [
      "C:\\Users\\naren\\AppData\\Local\\Temp\\ipykernel_18616\\1035019872.py:6: SettingWithCopyWarning: \n",
      "A value is trying to be set on a copy of a slice from a DataFrame\n",
      "\n",
      "See the caveats in the documentation: https://pandas.pydata.org/pandas-docs/stable/user_guide/indexing.html#returning-a-view-versus-a-copy\n",
      "  ACR_retire['Retirement Delay'][i] = ACR_retire['Retirement Year'][i]-ACR_retire['Vintage'][i]\n"
     ]
    }
   ],
   "source": [
    "ACR_retire = pd.read_excel(r\"C:\\Users\\naren\\Downloads\\Voluntary-Registry-Offsets-Database--v7-1--2022-year-end-release.xlsx\", sheet_name = \"ACR Retirements\")\n",
    "ACR_retire=ACR_retire[ACR_retire['Retirement Year']>=2014]\n",
    "ACR_retire.reset_index(inplace = True, drop = True)\n",
    "ACR_retire['Retirement Delay'] = \"\"\n",
    "for i in range(len(ACR_retire)):\n",
    " ACR_retire['Retirement Delay'][i] = ACR_retire['Retirement Year'][i]-ACR_retire['Vintage'][i]"
   ]
  },
  {
   "cell_type": "code",
   "execution_count": 14,
   "id": "640b9826",
   "metadata": {},
   "outputs": [
    {
     "name": "stdout",
     "output_type": "stream",
     "text": [
      "0.030466717903815055\n"
     ]
    }
   ],
   "source": [
    "scaler.fit(ACR_retire[['Retirement Year']])\n",
    "ACR_retire['Scaled Retirement Year']=scaler.transform(ACR_retire[['Retirement Year']])\n",
    "from sklearn.linear_model import LinearRegression\n",
    "ln = LinearRegression()\n",
    "X_train, X_test, y_train, y_test = train_test_split(ACR_retire['Scaled Retirement Year'], ACR_retire['Retirement Delay'], test_size=0.25, random_state = 51)\n",
    "X_train = np.array(X_train).reshape(-1,1)\n",
    "X_test = np.array(X_test).reshape(-1,1)\n",
    "y_train = y_train.astype('int')\n",
    "y_test = y_test.astype('int')\n",
    "ln1 = ln.fit(X_train,y_train)\n",
    "print(ln1.score(X_train,y_train))"
   ]
  },
  {
   "cell_type": "code",
   "execution_count": 15,
   "id": "65335821",
   "metadata": {},
   "outputs": [
    {
     "name": "stdout",
     "output_type": "stream",
     "text": [
      "0.1071752518396627\n",
      "[1.77274046]\n"
     ]
    },
    {
     "data": {
      "image/png": "[encoded data removed]",
      "text/plain": [
       "<Figure size 640x480 with 1 Axes>"
      ]
     },
     "metadata": {},
     "output_type": "display_data"
    },
    {
     "data": {
      "image/png": "[encoded data removed]",
      "text/plain": [
       "<Figure size 640x480 with 1 Axes>"
      ]
     },
     "metadata": {},
     "output_type": "display_data"
    }
   ],
   "source": [
    "sample_weight = np.ones(len(ACR_retire))\n",
    "for i in range(len(sample_weight)):\n",
    " sample_weight[i] = sample_weight[i]*list(ACR_retire['Quantity of Offset Credits'])[i]\n",
    "\n",
    "X_train, X_test, y_train, y_test, weight_train, weight_test = train_test_split(ACR_retire['Scaled Retirement Year'], ACR_retire['Retirement Delay'], sample_weight, test_size=0.25, random_state = 51)\n",
    "X_train = np.array(X_train).reshape(-1,1)\n",
    "X_test = np.array(X_test).reshape(-1,1)\n",
    "y_train = y_train.astype('int')\n",
    "y_test = y_test.astype('int')\n",
    "ln1 = ln.fit(X_train,y_train, weight_train)\n",
    "print(ln1.score(X_train,y_train, weight_train))\n",
    "print(ln1.coef_)\n",
    "y_pred = ln1.predict(X_test)\n",
    "plt.plot(X_test,y_pred)\n",
    "plt.show()\n",
    "plt.clf()\n",
    "plt.scatter(y_pred,y_test, alpha=0.4)\n",
    "plt.show()"
   ]
  },
  {
   "cell_type": "code",
   "execution_count": 16,
   "id": "33fe5ca3",
   "metadata": {},
   "outputs": [
    {
     "name": "stderr",
     "output_type": "stream",
     "text": [
      "C:\\Users\\naren\\anaconda3\\lib\\site-packages\\openpyxl\\styles\\stylesheet.py:226: UserWarning: Workbook contains no default style, apply openpyxl's default\n",
      "  warn(\"Workbook contains no default style, apply openpyxl's default\")\n"
     ]
    }
   ],
   "source": [
    "carbon_index = pd.read_excel(r\"C:\\Users\\naren\\Downloads\\IHS Markit Global Carbon Index_custom_Total Return Index Level.xlsx\")\n",
    "carbon_index.drop(np.array([0,1,2,3,4,5]),axis=0,inplace=True)\n",
    "carbon_index.reset_index(inplace=True, drop = True)\n",
    "carbon_index.rename(columns={'Unnamed: 0':'Date','Unnamed: 3':'Index Level'}, inplace= True)\n",
    "carbon_index['Date']=pd.to_datetime(carbon_index['Date'])\n",
    "carbon_index['Date']=carbon_index['Date'].apply(lambda x: x.strftime('%Y-%m'))"
   ]
  },
  {
   "cell_type": "code",
   "execution_count": 17,
   "id": "3a2607fa",
   "metadata": {
    "scrolled": false
   },
   "outputs": [
    {
     "name": "stderr",
     "output_type": "stream",
     "text": [
      "C:\\Users\\naren\\AppData\\Local\\Temp\\ipykernel_18616\\2898706107.py:5: SettingWithCopyWarning: \n",
      "A value is trying to be set on a copy of a slice from a DataFrame\n",
      "\n",
      "See the caveats in the documentation: https://pandas.pydata.org/pandas-docs/stable/user_guide/indexing.html#returning-a-view-versus-a-copy\n",
      "  ACR_retire['Index Level'][i]= np.array([float(i) for i in carbon_index.loc[(carbon_index['Date']<='2014-12') & (carbon_index['Date']>='2014-01')]['Index Level']]).mean()\n",
      "C:\\Users\\naren\\AppData\\Local\\Temp\\ipykernel_18616\\2898706107.py:7: SettingWithCopyWarning: \n",
      "A value is trying to be set on a copy of a slice from a DataFrame\n",
      "\n",
      "See the caveats in the documentation: https://pandas.pydata.org/pandas-docs/stable/user_guide/indexing.html#returning-a-view-versus-a-copy\n",
      "  ACR_retire['Index Level'][i]= np.array([float(i) for i in carbon_index.loc[(carbon_index['Date']<='2015-12') & (carbon_index['Date']>='2015-01')]['Index Level']]).mean()\n",
      "C:\\Users\\naren\\AppData\\Local\\Temp\\ipykernel_18616\\2898706107.py:11: SettingWithCopyWarning: \n",
      "A value is trying to be set on a copy of a slice from a DataFrame\n",
      "\n",
      "See the caveats in the documentation: https://pandas.pydata.org/pandas-docs/stable/user_guide/indexing.html#returning-a-view-versus-a-copy\n",
      "  ACR_retire['Index Level'][i]= np.array([float(i) for i in carbon_index.loc[(carbon_index['Date']<='2017-12') & (carbon_index['Date']>='2017-01')]['Index Level']]).mean()\n",
      "C:\\Users\\naren\\AppData\\Local\\Temp\\ipykernel_18616\\2898706107.py:13: SettingWithCopyWarning: \n",
      "A value is trying to be set on a copy of a slice from a DataFrame\n",
      "\n",
      "See the caveats in the documentation: https://pandas.pydata.org/pandas-docs/stable/user_guide/indexing.html#returning-a-view-versus-a-copy\n",
      "  ACR_retire['Index Level'][i]= np.array([float(i) for i in carbon_index.loc[(carbon_index['Date']<='2018-12') & (carbon_index['Date']>='2018-01')]['Index Level']]).mean()\n",
      "C:\\Users\\naren\\AppData\\Local\\Temp\\ipykernel_18616\\2898706107.py:15: SettingWithCopyWarning: \n",
      "A value is trying to be set on a copy of a slice from a DataFrame\n",
      "\n",
      "See the caveats in the documentation: https://pandas.pydata.org/pandas-docs/stable/user_guide/indexing.html#returning-a-view-versus-a-copy\n",
      "  ACR_retire['Index Level'][i]= np.array([float(i) for i in carbon_index.loc[(carbon_index['Date']<='2019-12') & (carbon_index['Date']>='2019-01')]['Index Level']]).mean()\n",
      "C:\\Users\\naren\\AppData\\Local\\Temp\\ipykernel_18616\\2898706107.py:21: SettingWithCopyWarning: \n",
      "A value is trying to be set on a copy of a slice from a DataFrame\n",
      "\n",
      "See the caveats in the documentation: https://pandas.pydata.org/pandas-docs/stable/user_guide/indexing.html#returning-a-view-versus-a-copy\n",
      "  ACR_retire['Index Level'][i]= np.array([float(i) for i in carbon_index.loc[(carbon_index['Date']<='2022-12') & (carbon_index['Date']>='2022-01')]['Index Level']]).mean()\n",
      "C:\\Users\\naren\\AppData\\Local\\Temp\\ipykernel_18616\\2898706107.py:9: SettingWithCopyWarning: \n",
      "A value is trying to be set on a copy of a slice from a DataFrame\n",
      "\n",
      "See the caveats in the documentation: https://pandas.pydata.org/pandas-docs/stable/user_guide/indexing.html#returning-a-view-versus-a-copy\n",
      "  ACR_retire['Index Level'][i]= np.array([float(i) for i in carbon_index.loc[(carbon_index['Date']<='2016-12') & (carbon_index['Date']>='2016-01')]['Index Level']]).mean()\n",
      "C:\\Users\\naren\\AppData\\Local\\Temp\\ipykernel_18616\\2898706107.py:17: SettingWithCopyWarning: \n",
      "A value is trying to be set on a copy of a slice from a DataFrame\n",
      "\n",
      "See the caveats in the documentation: https://pandas.pydata.org/pandas-docs/stable/user_guide/indexing.html#returning-a-view-versus-a-copy\n",
      "  ACR_retire['Index Level'][i]= np.array([float(i) for i in carbon_index.loc[(carbon_index['Date']<='2020-12') & (carbon_index['Date']>='2020-01')]['Index Level']]).mean()\n",
      "C:\\Users\\naren\\AppData\\Local\\Temp\\ipykernel_18616\\2898706107.py:19: SettingWithCopyWarning: \n",
      "A value is trying to be set on a copy of a slice from a DataFrame\n",
      "\n",
      "See the caveats in the documentation: https://pandas.pydata.org/pandas-docs/stable/user_guide/indexing.html#returning-a-view-versus-a-copy\n",
      "  ACR_retire['Index Level'][i]= np.array([float(i) for i in carbon_index.loc[(carbon_index['Date']<='2021-12') & (carbon_index['Date']>='2021-01')]['Index Level']]).mean()\n"
     ]
    }
   ],
   "source": [
    "ACR_retire['Index Level'] = \"\"\n",
    "\n",
    "for i in range(len(ACR_retire)):\n",
    "\tif ACR_retire['Retirement Year'][i]==2014:\n",
    "\t\tACR_retire['Index Level'][i]= np.array([float(i) for i in carbon_index.loc[(carbon_index['Date']<='2014-12') & (carbon_index['Date']>='2014-01')]['Index Level']]).mean()\n",
    "\telif ACR_retire['Retirement Year'][i]==2015:\n",
    "\t\tACR_retire['Index Level'][i]= np.array([float(i) for i in carbon_index.loc[(carbon_index['Date']<='2015-12') & (carbon_index['Date']>='2015-01')]['Index Level']]).mean()\n",
    "\telif ACR_retire['Retirement Year'][i]==2016:\n",
    "\t\tACR_retire['Index Level'][i]= np.array([float(i) for i in carbon_index.loc[(carbon_index['Date']<='2016-12') & (carbon_index['Date']>='2016-01')]['Index Level']]).mean()\n",
    "\telif ACR_retire['Retirement Year'][i]==2017:\n",
    "\t\tACR_retire['Index Level'][i]= np.array([float(i) for i in carbon_index.loc[(carbon_index['Date']<='2017-12') & (carbon_index['Date']>='2017-01')]['Index Level']]).mean()\n",
    "\telif ACR_retire['Retirement Year'][i]==2018:\n",
    "\t\tACR_retire['Index Level'][i]= np.array([float(i) for i in carbon_index.loc[(carbon_index['Date']<='2018-12') & (carbon_index['Date']>='2018-01')]['Index Level']]).mean()\n",
    "\telif ACR_retire['Retirement Year'][i]==2019:\n",
    "\t\tACR_retire['Index Level'][i]= np.array([float(i) for i in carbon_index.loc[(carbon_index['Date']<='2019-12') & (carbon_index['Date']>='2019-01')]['Index Level']]).mean()\n",
    "\telif ACR_retire['Retirement Year'][i]==2020:\n",
    "\t\tACR_retire['Index Level'][i]= np.array([float(i) for i in carbon_index.loc[(carbon_index['Date']<='2020-12') & (carbon_index['Date']>='2020-01')]['Index Level']]).mean()\n",
    "\telif ACR_retire['Retirement Year'][i]==2021:\n",
    "\t\tACR_retire['Index Level'][i]= np.array([float(i) for i in carbon_index.loc[(carbon_index['Date']<='2021-12') & (carbon_index['Date']>='2021-01')]['Index Level']]).mean()\n",
    "\telif ACR_retire['Retirement Year'][i]==2022:\n",
    "\t\tACR_retire['Index Level'][i]= np.array([float(i) for i in carbon_index.loc[(carbon_index['Date']<='2022-12') & (carbon_index['Date']>='2022-01')]['Index Level']]).mean()"
   ]
  },
  {
   "cell_type": "code",
   "execution_count": 18,
   "id": "95f8a501",
   "metadata": {},
   "outputs": [
    {
     "name": "stdout",
     "output_type": "stream",
     "text": [
      "0.20124485003495163\n",
      "[-0.97219821  0.01984099]\n"
     ]
    }
   ],
   "source": [
    "x = ACR_retire[['Retirement Year','Index Level']]\n",
    "y = ACR_retire['Retirement Delay']\n",
    "X_train, X_test, y_train, y_test, weight_train, weight_test = train_test_split(x, y, sample_weight, test_size=0.25, random_state = 51)\n",
    "ln1 = ln.fit(X_train,y_train, weight_train)\n",
    "print(ln1.score(X_train,y_train, weight_train))\n",
    "print(ln1.coef_)"
   ]
  },
  {
   "cell_type": "code",
   "execution_count": 19,
   "id": "42fe077e",
   "metadata": {},
   "outputs": [
    {
     "name": "stdout",
     "output_type": "stream",
     "text": [
      "0.17950300270345865\n",
      "[0.0111232]\n"
     ]
    }
   ],
   "source": [
    "x = ACR_retire[['Index Level']]\n",
    "X_train, X_test, y_train, y_test, weight_train, weight_test = train_test_split(x, y, sample_weight, test_size=0.25, random_state = 51)\n",
    "ln1 = ln.fit(X_train,y_train, weight_train)\n",
    "print(ln1.score(X_train,y_train, weight_train))\n",
    "print(ln1.coef_)"
   ]
  }
 ],
 "metadata": {
  "kernelspec": {
   "display_name": "Python 3 (ipykernel)",
   "language": "python",
   "name": "python3"
  },
  "language_info": {
   "codemirror_mode": {
    "name": "ipython",
    "version": 3
   },
   "file_extension": ".py",
   "mimetype": "text/x-python",
   "name": "python",
   "nbconvert_exporter": "python",
   "pygments_lexer": "ipython3",
   "version": "3.9.13"
  }
 },
 "nbformat": 4,
 "nbformat_minor": 5
}
